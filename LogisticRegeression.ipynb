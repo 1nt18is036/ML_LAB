{
 "cells": [
  {
   "cell_type": "code",
   "execution_count": 12,
   "id": "afef2821",
   "metadata": {
    "scrolled": true
   },
   "outputs": [
    {
     "name": "stdout",
     "output_type": "stream",
     "text": [
      "StandardScaler()\n",
      "-0.0053577867122064395 -0.0007223948170060199 0.2857813880668563\n",
      "[1, 1, 1, 1, 1, 1, 1, 1, 1, 1, 1, 1, 1, 1, 1, 1, 1, 1, 1, 1]\n"
     ]
    },
    {
     "data": {
      "text/plain": [
       "0.65"
      ]
     },
     "execution_count": 12,
     "metadata": {},
     "output_type": "execute_result"
    }
   ],
   "source": [
    "import numpy as np\n",
    "import matplotlib.pyplot as plt\n",
    "import pandas as pd\n",
    "import random\n",
    "import math\n",
    "from sklearn.metrics import accuracy_score\n",
    "from sklearn.preprocessing import StandardScaler\n",
    "from sklearn import *\n",
    "\n",
    "\n",
    "\n",
    "X = pd.read_csv(\"Student-University.csv\", header=None)\n",
    "# type(X)\n",
    "scaler = StandardScaler()\n",
    "print(scaler.fit(X))\n",
    "# X = preprocessing.normalize(X)\n",
    "# print(X)\n",
    "\n",
    "test = X.values.tolist()\n",
    "train = []\n",
    "\n",
    "#print(len(test))\n",
    "for i in range(80):\n",
    "    index = random.randrange(len(test))\n",
    "    \n",
    "    train.append(test.pop(index))\n",
    "    \n",
    "# print(train) \n",
    "# print(len(train))\n",
    "# print(test)\n",
    "# print(len(test))\n",
    "alpha = 0.01\n",
    "b0 = 0.0\n",
    "b1 = 0.0\n",
    "b2 = 0.0\n",
    "x1 = [i[0] for i in train]\n",
    "x2 = [i[1] for i in train]\n",
    "y = [i[2] for i in train]\n",
    "\n",
    "#print(len(x1)#,x2,y)\n",
    "\n",
    "epoch = 1000\n",
    "# print(prediction)\n",
    "# b0 = (b0 + alpha*(y - prediction)*prediction*(1-prediction)*1)\n",
    "# b1 = (b1 + alpha*(y - prediction)*prediction*(1-prediction)*x1)\n",
    "# b2 = (b2 + alpha*(y - prediction)*prediction*(1-prediction)*x2)\n",
    "\n",
    "while(epoch>=0):\n",
    "    for i in range(80):\n",
    "        prediction = 1/( 1 + np.exp(-(b0+b1*x1[i]+b2*x2[i])))\n",
    "        b0 = (b0 + alpha*(y[i] - prediction)*prediction*(1-prediction)*1)\n",
    "        b1 = (b1 + alpha*(y[i] - prediction)*prediction*(1-prediction)*x1[i])\n",
    "        b2 = (b2 + alpha*(y[i] - prediction)*prediction*(1-prediction)*x2[i])\n",
    "    epoch = epoch-1\n",
    "\n",
    "print(b0,b1,b2)\n",
    "\n",
    "x1_test = [i[0] for i in test]\n",
    "x2_test = [i[1] for i in test]\n",
    "y_test = [i[2] for i in test]\n",
    "\n",
    "y_pred = []\n",
    "\n",
    "for i in range(20):\n",
    "        pred_test = round(1/( 1 + np.exp(-(b0+b1*x1_test[i]+b2*x2_test[i]))))\n",
    "        y_pred.append(pred_test)\n",
    "print(y_pred)\n",
    "accuracy_score(y_test, y_pred)\n",
    "\n"
   ]
  },
  {
   "cell_type": "code",
   "execution_count": null,
   "id": "535d47b1",
   "metadata": {},
   "outputs": [],
   "source": []
  },
  {
   "cell_type": "code",
   "execution_count": null,
   "id": "a603ca12",
   "metadata": {},
   "outputs": [],
   "source": []
  }
 ],
 "metadata": {
  "kernelspec": {
   "display_name": "Python 3",
   "language": "python",
   "name": "python3"
  },
  "language_info": {
   "codemirror_mode": {
    "name": "ipython",
    "version": 3
   },
   "file_extension": ".py",
   "mimetype": "text/x-python",
   "name": "python",
   "nbconvert_exporter": "python",
   "pygments_lexer": "ipython3",
   "version": "3.8.8"
  }
 },
 "nbformat": 4,
 "nbformat_minor": 5
}
